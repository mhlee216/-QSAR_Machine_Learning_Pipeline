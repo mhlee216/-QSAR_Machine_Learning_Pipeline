{
 "cells": [
  {
   "cell_type": "markdown",
   "id": "13d22672",
   "metadata": {},
   "source": [
    "## Efficient Fish Acute Toxicity Prediction Using QSAR Machine Learning Pipeline"
   ]
  },
  {
   "cell_type": "markdown",
   "id": "80f464af",
   "metadata": {},
   "source": [
    " "
   ]
  },
  {
   "cell_type": "markdown",
   "id": "13375e82",
   "metadata": {},
   "source": [
    "# 1. SMILES\n",
    "### Dataset\n",
    "<br>https://qsardb.org/repository/handle/10967/195</br>\n",
    "<br>Property pLC50: 96-h acute fish toxicity as log(1/LC50) [-log(mmol/L)]</br>\n",
    "<br>Training set</br>"
   ]
  },
  {
   "cell_type": "code",
   "execution_count": null,
   "id": "86de29c1",
   "metadata": {},
   "outputs": [],
   "source": [
    "!wget https://qsardb.org/repository/bitstream/handle/10967/195/2015SQER301.qdb.zip\n",
    "!unzip 2015SQER301.qdb.zip"
   ]
  },
  {
   "cell_type": "code",
   "execution_count": null,
   "id": "3899688e",
   "metadata": {},
   "outputs": [],
   "source": [
    "files = !ls compounds/\n",
    "files = [f'compounds/{i}/daylight-smiles' for i in files[1:]]\n",
    "files"
   ]
  },
  {
   "cell_type": "code",
   "execution_count": null,
   "id": "1dd9e1d1",
   "metadata": {},
   "outputs": [],
   "source": [
    "smi_dict = {}\n",
    "for file in files:\n",
    "    f = open(file, 'r')\n",
    "    smi = f.readline()\n",
    "    smi_dict[file.split('/')[1]] = smi\n",
    "    f.close()\n",
    "smi_dict"
   ]
  },
  {
   "cell_type": "code",
   "execution_count": null,
   "id": "27a18ae5",
   "metadata": {},
   "outputs": [],
   "source": [
    "import pandas as pd\n",
    "import numpy as np\n",
    "import pubchempy as pcp"
   ]
  },
  {
   "cell_type": "code",
   "execution_count": null,
   "id": "cd039065",
   "metadata": {
    "scrolled": true
   },
   "outputs": [],
   "source": [
    "df = pd.read_csv('properties/pLC50/values', sep='\\t')\n",
    "df"
   ]
  },
  {
   "cell_type": "code",
   "execution_count": null,
   "id": "03c7f788",
   "metadata": {},
   "outputs": [],
   "source": [
    "df['SMILES'] = np.nan\n",
    "for i in range(df.shape[0]):\n",
    "    try:\n",
    "        df['SMILES'].iloc[i] = smi_dict[df['Compound Id'].iloc[i]]\n",
    "    except:\n",
    "        continue\n",
    "\n",
    "df = df.dropna().reset_index(drop=True)\n",
    "df.columns = ['ID', 'pLC50', 'SMILES']\n",
    "target = df[['pLC50']]\n",
    "del df['pLC50']\n",
    "df"
   ]
  },
  {
   "cell_type": "code",
   "execution_count": null,
   "id": "fc087d59",
   "metadata": {},
   "outputs": [],
   "source": [
    "f = open('compounds/compounds.xml', 'r')\n",
    "lines = f.readlines()\n",
    "f.close()"
   ]
  },
  {
   "cell_type": "code",
   "execution_count": null,
   "id": "944e0fa7",
   "metadata": {
    "scrolled": true
   },
   "outputs": [],
   "source": [
    "df['InChI'] = 'Miss'\n",
    "for i in range(len(lines)):\n",
    "    if 'Tab' in lines[i]:\n",
    "        if lines[i][12:-6] in df['ID'].tolist():\n",
    "            if 'InChI'in lines[i+4]:\n",
    "                key = lines[i+4][15:-9]\n",
    "            if 'InChI'in lines[i+5]:\n",
    "                key = lines[i+5][15:-9]\n",
    "            if 'InChI'in lines[i+6]:\n",
    "                key = lines[i+6][15:-9]\n",
    "            n = df[df['ID'] == lines[i][12:-6]].index[0]\n",
    "            df['InChI'].iloc[n] = key\n",
    "            key = 'Miss'\n",
    "\n",
    "df"
   ]
  },
  {
   "cell_type": "code",
   "execution_count": null,
   "id": "d0ba2916",
   "metadata": {},
   "outputs": [],
   "source": [
    "df['Name'] = 'Miss'\n",
    "for i in range(len(lines)):\n",
    "    if 'Tab' in lines[i]:\n",
    "        if lines[i][12:-6] in df['ID'].tolist():\n",
    "            if 'Name'in lines[i+1]:\n",
    "                key = lines[i+1][14:-8]\n",
    "            if 'Name'in lines[i+2]:\n",
    "                key = lines[i+2][14:-8]\n",
    "            n = df[df['ID'] == lines[i][12:-6]].index[0]\n",
    "            df['Name'].iloc[n] = key\n",
    "            key = 'Miss'\n",
    "df"
   ]
  },
  {
   "cell_type": "code",
   "execution_count": null,
   "id": "8422a847",
   "metadata": {},
   "outputs": [],
   "source": [
    "for i in range(df.shape[0]):\n",
    "    if df['InChI'].iloc[i] != 'Miss':\n",
    "        compound = pcp.get_compounds(df['InChI'].iloc[i], 'inchi')\n",
    "        # print(compound)\n",
    "        if len(str(compound[0])) > 10:\n",
    "            df['ID'].iloc[i] = compound[0].cid\n",
    "        else:\n",
    "            df['ID'].iloc[i] = 'Miss'\n",
    "            print(i)\n",
    "        \n",
    "# df = df.dropna().reset_index(drop=True)\n",
    "df"
   ]
  },
  {
   "cell_type": "code",
   "execution_count": null,
   "id": "23111630",
   "metadata": {
    "scrolled": true
   },
   "outputs": [],
   "source": [
    "for i in range(df.shape[0]):\n",
    "    if df['ID'].iloc[i] == 'Miss':\n",
    "        if df['Name'].iloc[i] != 'Miss':\n",
    "            compound = pcp.get_compounds(df['Name'].iloc[i], 'name')\n",
    "            # print(compound)\n",
    "            if len(str(compound[0])) > 10:\n",
    "                df['ID'].iloc[i] = compound[0].cid\n",
    "            else:\n",
    "                df['ID'].iloc[i] = np.nan\n",
    "                print(i)\n",
    "        \n",
    "df = df.dropna().reset_index(drop=True)\n",
    "df"
   ]
  },
  {
   "cell_type": "code",
   "execution_count": null,
   "id": "53dfeaa2",
   "metadata": {},
   "outputs": [],
   "source": [
    "df['SMILES'] = np.nan\n",
    "for i in range(df.shape[0]):\n",
    "    try:\n",
    "        c = pcp.Compound.from_cid(df['ID'].iloc[i])\n",
    "        df['SMILES'].iloc[i] = c.canonical_smiles\n",
    "    except:\n",
    "        print(i)\n",
    "        continue\n",
    "df"
   ]
  },
  {
   "cell_type": "code",
   "execution_count": null,
   "id": "2527f0d2",
   "metadata": {},
   "outputs": [],
   "source": [
    "df = df[['ID', 'SMILES']].dropna().reset_index(drop=True)\n",
    "df.columns = ['CID', 'SMILES']\n",
    "df"
   ]
  },
  {
   "cell_type": "markdown",
   "id": "eb0fc755",
   "metadata": {},
   "source": [
    "# 2. RDKit\n",
    "### Canonicalization"
   ]
  },
  {
   "cell_type": "code",
   "execution_count": null,
   "id": "e2b6e19a",
   "metadata": {},
   "outputs": [],
   "source": [
    "import pandas as pd\n",
    "import numpy as np\n",
    "from rdkit import Chem\n",
    "from mordred import Calculator, descriptors\n",
    "import warnings\n",
    "warnings.filterwarnings(action='ignore')\n",
    "import matplotlib.pyplot as plt\n",
    "import seaborn as sns"
   ]
  },
  {
   "cell_type": "code",
   "execution_count": null,
   "id": "46aefd16",
   "metadata": {},
   "outputs": [],
   "source": [
    "def canonical(df):\n",
    "    for i in range(df.shape[0]):\n",
    "        mol = Chem.MolFromSmiles(df['SMILES'].iloc[i])\n",
    "        if mol is not None:\n",
    "            smi = Chem.MolToSmiles(mol)\n",
    "            df['SMILES'].iloc[i] = smi\n",
    "        else:\n",
    "            df['SMILES'].iloc[i] = np.nan\n",
    "            print(i)\n",
    "    df = df.dropna().reset_index(drop=True)\n",
    "    return df"
   ]
  },
  {
   "cell_type": "code",
   "execution_count": null,
   "id": "2e336b68",
   "metadata": {},
   "outputs": [],
   "source": [
    "df = canonical(df)\n",
    "df"
   ]
  },
  {
   "cell_type": "code",
   "execution_count": null,
   "id": "3c600389",
   "metadata": {},
   "outputs": [],
   "source": [
    "df.to_csv('Train.csv', index=False)"
   ]
  },
  {
   "cell_type": "markdown",
   "id": "1d4369da",
   "metadata": {},
   "source": [
    "# 3. Mordred\n",
    "### Descriptors"
   ]
  },
  {
   "cell_type": "code",
   "execution_count": null,
   "id": "765e0028",
   "metadata": {},
   "outputs": [],
   "source": [
    "def mordred(df):\n",
    "    calc = Calculator(descriptors, ignore_3D=True)\n",
    "    mols = [Chem.MolFromSmiles(s) for s in df['SMILES'].tolist()]\n",
    "    mord = calc.pandas(mols)\n",
    "    df = pd.concat([df, mord], axis=1)\n",
    "    return df"
   ]
  },
  {
   "cell_type": "code",
   "execution_count": null,
   "id": "f6fbca0a",
   "metadata": {},
   "outputs": [],
   "source": [
    "df = mordred(df)\n",
    "df"
   ]
  },
  {
   "cell_type": "code",
   "execution_count": null,
   "id": "390e2aaa",
   "metadata": {},
   "outputs": [],
   "source": [
    "def invalid(df):\n",
    "    for c in df.columns:\n",
    "        if c not in ['CID', 'SMILES']:\n",
    "            for i in range(df.shape[0]):\n",
    "                try: \n",
    "                    _ = float(df[c].iloc[i])+1\n",
    "                    df[c].iloc[i] = float(df[c].iloc[i])\n",
    "                except:\n",
    "                    df[c].iloc[i] = np.nan\n",
    "                    continue\n",
    "    return df"
   ]
  },
  {
   "cell_type": "code",
   "execution_count": null,
   "id": "2fa1a8eb",
   "metadata": {},
   "outputs": [],
   "source": [
    "df = invalid(df)\n",
    "df"
   ]
  },
  {
   "cell_type": "code",
   "execution_count": null,
   "id": "4dfb064c",
   "metadata": {},
   "outputs": [],
   "source": [
    "df['pLC50'] = target['pLC50']\n",
    "df"
   ]
  },
  {
   "cell_type": "code",
   "execution_count": null,
   "id": "d44f6c28",
   "metadata": {},
   "outputs": [],
   "source": [
    "df.to_csv('Train_Mordred.csv', index=False)"
   ]
  },
  {
   "cell_type": "markdown",
   "id": "91338e95",
   "metadata": {},
   "source": [
    "# 4. PyQSAR\n",
    "### Preprocessing"
   ]
  },
  {
   "cell_type": "code",
   "execution_count": null,
   "id": "8b5d0280",
   "metadata": {},
   "outputs": [],
   "source": [
    "# Python 2.7"
   ]
  },
  {
   "cell_type": "code",
   "execution_count": null,
   "id": "b92b2293",
   "metadata": {},
   "outputs": [],
   "source": [
    "from pyqsar import data_tools as dt\n",
    "from sklearn import preprocessing\n",
    "import pandas as pd\n",
    "import matplotlib.pyplot as plt\n",
    "import seaborn as sns"
   ]
  },
  {
   "cell_type": "code",
   "execution_count": null,
   "id": "235a2980",
   "metadata": {
    "scrolled": true
   },
   "outputs": [],
   "source": [
    "df = pd.read_csv('Train_Mordred.csv')\n",
    "df = df.fillna(0)\n",
    "X_data = df.iloc[:,2:-1]\n",
    "y_data = df.iloc[:,-1:]\n",
    "\n",
    "X_data = dt.rm_empty_feature(X_data)\n",
    "X_data = dt.rmNaN(X_data)\n",
    "\n",
    "Infinity_list = []\n",
    "for des in X_data:\n",
    "    my_list = X_data[des].values\n",
    "    for val in my_list:\n",
    "        if val == \"Infinity\" or val == \"-Infinity\":\n",
    "            Infinity_list.append(des)\n",
    "            del X_data[des]\n",
    "            break\n",
    "\n",
    "header = list(X_data.columns.values)\n",
    "scaler = preprocessing.MinMaxScaler()\n",
    "X_data = scaler.fit_transform(X_data)\n",
    "X_data = pd.DataFrame(X_data, columns=header)\n",
    "\n",
    "df = pd.concat([df[['CID', 'SMILES']], X_data, y_data], axis=1)\n",
    "df.to_csv('Train_Mordred_Prepro.csv', index=False)\n",
    "df"
   ]
  },
  {
   "cell_type": "code",
   "execution_count": null,
   "id": "514b7b19",
   "metadata": {},
   "outputs": [],
   "source": [
    "df = pd.read_csv('Train_Mordred_Prepro.csv')"
   ]
  },
  {
   "cell_type": "code",
   "execution_count": null,
   "id": "6d65245c",
   "metadata": {},
   "outputs": [],
   "source": [
    "kwargs = dict(hist_kws={'alpha':.3}, kde_kws={'linewidth':2})\n",
    "\n",
    "plt.figure(figsize=(8,5))#, dpi= 500)\n",
    "sns.distplot(df['pLC50'], color=\"blue\", bins=16, **kwargs)\n",
    "plt.xlabel(r'$pLC_{50}$', fontsize=25)\n",
    "plt.xticks(fontsize=18)\n",
    "plt.ylabel('Density', fontsize=25)\n",
    "plt.yticks(fontsize=18)\n",
    "plt.show()"
   ]
  },
  {
   "cell_type": "markdown",
   "id": "ba4a2c17",
   "metadata": {},
   "source": [
    "# 5. PyCaret\n",
    "### Comparison & Tuning"
   ]
  },
  {
   "cell_type": "code",
   "execution_count": null,
   "id": "7d398776",
   "metadata": {},
   "outputs": [],
   "source": [
    "import pandas as pd\n",
    "import warnings\n",
    "warnings.filterwarnings(action='ignore')\n",
    "from pycaret.regression import *"
   ]
  },
  {
   "cell_type": "code",
   "execution_count": null,
   "id": "132df30c",
   "metadata": {},
   "outputs": [],
   "source": [
    "df = pd.read_csv('Train_Mordred_Prepro.csv')\n",
    "df = df.fillna(0)\n",
    "df"
   ]
  },
  {
   "cell_type": "code",
   "execution_count": null,
   "id": "163d3273",
   "metadata": {},
   "outputs": [],
   "source": [
    "exp = setup(df, target='pLC50', ignore_features = ['CID', 'SMILES'], silent=True)"
   ]
  },
  {
   "cell_type": "code",
   "execution_count": null,
   "id": "3242b887",
   "metadata": {},
   "outputs": [],
   "source": [
    "top3 = compare_models(n_select = 3, sort='r2')"
   ]
  },
  {
   "cell_type": "code",
   "execution_count": 5,
   "id": "3b93968e",
   "metadata": {},
   "outputs": [
    {
     "ename": "NameError",
     "evalue": "name 'top3' is not defined",
     "output_type": "error",
     "traceback": [
      "\u001b[0;31m---------------------------------------------------------------------------\u001b[0m",
      "\u001b[0;31mNameError\u001b[0m                                 Traceback (most recent call last)",
      "\u001b[0;32m/tmp/ipykernel_75580/3577426366.py\u001b[0m in \u001b[0;36m<module>\u001b[0;34m\u001b[0m\n\u001b[0;32m----> 1\u001b[0;31m \u001b[0mbest\u001b[0m \u001b[0;34m=\u001b[0m \u001b[0mtop3\u001b[0m\u001b[0;34m[\u001b[0m\u001b[0;36m0\u001b[0m\u001b[0;34m]\u001b[0m\u001b[0;34m\u001b[0m\u001b[0;34m\u001b[0m\u001b[0m\n\u001b[0m",
      "\u001b[0;31mNameError\u001b[0m: name 'top3' is not defined"
     ]
    }
   ],
   "source": [
    "best = top3[0]"
   ]
  },
  {
   "cell_type": "code",
   "execution_count": null,
   "id": "cd1131a1",
   "metadata": {},
   "outputs": [],
   "source": [
    "best.get_params()"
   ]
  },
  {
   "cell_type": "code",
   "execution_count": null,
   "id": "a85cf7ee",
   "metadata": {},
   "outputs": [],
   "source": [
    "tuned_best = tune_model(best, n_iter=50, optimize='R2')"
   ]
  },
  {
   "cell_type": "code",
   "execution_count": null,
   "id": "59496b17",
   "metadata": {},
   "outputs": [],
   "source": [
    "tuned_best.get_params()"
   ]
  },
  {
   "cell_type": "code",
   "execution_count": null,
   "id": "29c0651f",
   "metadata": {},
   "outputs": [],
   "source": [
    "tuned_best = tune_model(best, n_iter=100, optimize='R2')"
   ]
  },
  {
   "cell_type": "code",
   "execution_count": null,
   "id": "61f99413",
   "metadata": {},
   "outputs": [],
   "source": [
    "tuned_best.get_params()"
   ]
  },
  {
   "cell_type": "markdown",
   "id": "6790d9fb",
   "metadata": {},
   "source": [
    "# 6. Scikit-learn\n",
    "### First Test"
   ]
  },
  {
   "cell_type": "code",
   "execution_count": null,
   "id": "42b8456f",
   "metadata": {},
   "outputs": [],
   "source": [
    "import pandas as pd\n",
    "import numpy as np\n",
    "from rdkit import Chem\n",
    "from rdkit.Chem import AllChem\n",
    "from rdkit.Chem import MACCSkeys\n",
    "import warnings\n",
    "warnings.filterwarnings(action='ignore')\n",
    "from sklearn.ensemble import RandomForestRegressor\n",
    "from sklearn.linear_model import BayesianRidge\n",
    "from sklearn.model_selection import cross_validate\n",
    "from sklearn.metrics import r2_score, mean_absolute_error, mean_squared_error\n",
    "from sklearn.model_selection import train_test_split\n",
    "from sklearn import preprocessing\n",
    "import matplotlib.pyplot as plt\n",
    "from tqdm.notebook import tqdm"
   ]
  },
  {
   "cell_type": "code",
   "execution_count": 7,
   "id": "8df12b5b",
   "metadata": {},
   "outputs": [],
   "source": [
    "def prepro(df, select):\n",
    "    df = df.fillna(0)\n",
    "    X_data = df.iloc[:,2:-1]\n",
    "    y_data = df.iloc[:,-1:]\n",
    "    header = list(X_data.columns.values)\n",
    "    scaler = preprocessing.MinMaxScaler()\n",
    "    X_data = scaler.fit_transform(X_data)\n",
    "    X_data = pd.DataFrame(X_data, columns=header)\n",
    "    X_data = X_data[select]\n",
    "    return X_data, y_data"
   ]
  },
  {
   "cell_type": "code",
   "execution_count": 8,
   "id": "b4d29e2c",
   "metadata": {},
   "outputs": [],
   "source": [
    "def fit(x, y, ratio=0.2, seed=2021, cv=3):\n",
    "    \n",
    "    reg = BayesianRidge(alpha_1=0.0001,\n",
    "                       alpha_2=0.2,\n",
    "                       compute_score=True,\n",
    "                       copy_X=True,\n",
    "                       fit_intercept=True,\n",
    "                       lambda_1=0.3,\n",
    "                       lambda_2=1e-07,\n",
    "                       n_iter=300,\n",
    "                       normalize=True,\n",
    "                       tol=0.001,\n",
    "                       verbose=False)\n",
    "    \n",
    "    x_train, x_test, y_train, y_test = train_test_split(x, y, test_size=ratio, random_state=seed)\n",
    "    \n",
    "    reg.fit(x_train, y_train)\n",
    "    y_pred = reg.predict(x_test)\n",
    "    \n",
    "    r2 = r2_score(y_test, y_pred)\n",
    "    mae = mean_absolute_error(y_test, y_pred)\n",
    "    mse = mean_squared_error(y_test, y_pred)\n",
    "    \n",
    "    cv_score = cross_validate(reg, x, y, cv=cv, scoring='r2')\n",
    "\n",
    "    return reg, r2, mae, mse, y_test, y_pred, cv_score"
   ]
  },
  {
   "cell_type": "code",
   "execution_count": 9,
   "id": "c07360fb",
   "metadata": {},
   "outputs": [],
   "source": [
    "def plot(r2, mae, mse, y_true, y_pred, cv_score):\n",
    "    print('%.1i-fold CV R2 : %.4f' % (int(len(cv_score['test_score'])), float(np.mean(cv_score['test_score']))))\n",
    "    \n",
    "    plt.figure(figsize=(4, 4))#, dpi=500)\n",
    "    plt.scatter(y_true, y_pred, alpha=0.4, color='blue')\n",
    "    plt.plot(y_true, y_true, alpha=0.4, color='black')\n",
    "    plt.xlabel(r\"Measured toxicity ($pLC_{50}$)\", fontsize=18)\n",
    "    plt.ylabel(r\"Predicted toxicity ($pLC_{50}$)\", fontsize=18)\n",
    "#     plt.text(-0.6, 3.6, r'$R^2 = 0.9229$', fontdict={'size': 16})\n",
    "    plt.tight_layout()\n",
    "    plt.show()\n",
    "    \n",
    "    print('R2 : %.4f' % (float(r2)))\n",
    "    print('MAE : %.4f' % (float(mae)))\n",
    "    print('MSE : %.4f' % (float(mse)))"
   ]
  },
  {
   "cell_type": "code",
   "execution_count": null,
   "id": "978cba00",
   "metadata": {},
   "outputs": [],
   "source": [
    "df = pd.read_csv('Train_Mordred_Prepro.csv')\n",
    "select = df.columns[2:-1]\n",
    "select"
   ]
  },
  {
   "cell_type": "code",
   "execution_count": null,
   "id": "c100622f",
   "metadata": {},
   "outputs": [],
   "source": [
    "X_data, y_data = prepro(df, select)\n",
    "reg, r2, mae, mse, y_test, y_pred, cv_score = fit(X_data, y_data, ratio=0.2, seed=2021, cv=3)\n",
    "plot(r2, mae, mse, y_test, y_pred, cv_score)"
   ]
  },
  {
   "cell_type": "code",
   "execution_count": null,
   "id": "704cbffa",
   "metadata": {},
   "outputs": [],
   "source": [
    "r2_list = []\n",
    "mae_list = []\n",
    "mse_list = []\n",
    "for i in range(0, 1000, 100):\n",
    "    print(i)\n",
    "    X_data, y_data = prepro(df, select)\n",
    "    reg, r2, mae, mse, y_test, y_pred, cv_score = fit(X_data, y_data, ratio=0.2, seed=i, cv=3)\n",
    "    plot(r2, mae, mse, y_test, y_pred, cv_score)\n",
    "    r2_list.append(r2)\n",
    "    mae_list.append(mae)\n",
    "    mse_list.append(mse)\n",
    "print()\n",
    "print('Total')\n",
    "print('R2 : %.4f' % (float(np.mean(r2_list))))\n",
    "print('StD : %.4f' % (float(np.std(r2_list))))\n",
    "print('MAE : %.4f' % (float(np.mean(mae_list))))\n",
    "print('MSE : %.4f' % (float(np.mean(mse_list))))"
   ]
  },
  {
   "cell_type": "markdown",
   "id": "c39a8174",
   "metadata": {},
   "source": [
    "# 8. PyQSAR\n",
    "### Feature Selection"
   ]
  },
  {
   "cell_type": "code",
   "execution_count": null,
   "id": "17ffb6b4",
   "metadata": {},
   "outputs": [],
   "source": [
    "# Python 2.7"
   ]
  },
  {
   "cell_type": "code",
   "execution_count": null,
   "id": "de4965fd",
   "metadata": {},
   "outputs": [],
   "source": [
    "import pandas as pd\n",
    "import numpy as np\n",
    "import warnings\n",
    "warnings.filterwarnings(action='ignore')\n",
    "from sklearn.ensemble import RandomForestRegressor\n",
    "from sklearn.linear_model import BayesianRidge\n",
    "from sklearn.model_selection import cross_validate\n",
    "from sklearn.metrics import r2_score, mean_absolute_error, mean_squared_error\n",
    "from sklearn.model_selection import train_test_split\n",
    "from sklearn import preprocessing\n",
    "import matplotlib.pyplot as plt\n",
    "from pyqsar import clustering as cl\n",
    "from pyqsar import feature_selection_single as fss"
   ]
  },
  {
   "cell_type": "code",
   "execution_count": null,
   "id": "941f53c6",
   "metadata": {},
   "outputs": [],
   "source": [
    "def fit(x, y, external=False, ratio=0.2, seed=2021, cv=3):\n",
    "    \n",
    "    reg = BayesianRidge(alpha_1=0.0001,\n",
    "                       alpha_2=0.2,\n",
    "                       compute_score=True,\n",
    "                       copy_X=True,\n",
    "                       fit_intercept=True,\n",
    "                       lambda_1=0.3,\n",
    "                       lambda_2=1e-07,\n",
    "                       n_iter=300,\n",
    "                       normalize=True,\n",
    "                       tol=0.001,\n",
    "                       verbose=False)\n",
    "\n",
    "    \n",
    "    print(x.shape[1])\n",
    "    x_train, x_test, y_train, y_test = train_test_split(x, y, test_size=ratio, random_state=seed)\n",
    "    \n",
    "    reg.fit(x_train, y_train)\n",
    "    y_pred = reg.predict(x_test)\n",
    "    \n",
    "    r2 = r2_score(y_test, y_pred)\n",
    "    mae = mean_absolute_error(y_test, y_pred)\n",
    "    mse = mean_squared_error(y_test, y_pred)\n",
    "    \n",
    "    cv_score = cross_validate(reg, x, y, cv=cv, scoring='r2')\n",
    "\n",
    "    return reg, r2, mae, mse, y_test, y_pred, cv_score"
   ]
  },
  {
   "cell_type": "code",
   "execution_count": null,
   "id": "69a619b0",
   "metadata": {},
   "outputs": [],
   "source": [
    "df = pd.read_csv('Train_Mordred_Prepro.csv')\n",
    "df = df.fillna(0)\n",
    "X_data = df.iloc[:,2:-1]\n",
    "y_data = df.iloc[:,-1:]\n",
    "header = list(X_data.columns.values)\n",
    "scaler = preprocessing.MinMaxScaler()\n",
    "X_data = scaler.fit_transform(X_data)\n",
    "X_data = pd.DataFrame(X_data, columns=header)\n",
    "X_data"
   ]
  },
  {
   "cell_type": "code",
   "execution_count": null,
   "id": "830c9296",
   "metadata": {},
   "outputs": [],
   "source": [
    "cl.cophenetic(X_data)\n",
    "clust = cl.FeatureCluster(X_data, 'average', 2)\n",
    "clust_info = clust.set_cluster()"
   ]
  },
  {
   "cell_type": "code",
   "execution_count": null,
   "id": "c0423dd0",
   "metadata": {},
   "outputs": [],
   "source": [
    "br_select_list = []\n",
    "br_cv_list = []\n",
    "for i in range(1, 51):\n",
    "    print(i)\n",
    "    select = fss.selection(X_data, y_data,\n",
    "                           clust_info,\n",
    "                           model='regression',\n",
    "                           learning=1000,\n",
    "                           bank=200,\n",
    "                           component=i)\n",
    "    reg, r2, mae, mse, y_test, y_pred, cv_score = fit(X_data[select], y_data, external=False, ratio=0.2, seed=2021, cv=3)\n",
    "    br_cv_list.append(np.mean(cv_score['test_score']))\n",
    "    br_select_list.append(select)\n",
    "    print(select)\n",
    "    print(np.mean(cv_score['test_score']))\n",
    "    print"
   ]
  },
  {
   "cell_type": "code",
   "execution_count": null,
   "id": "ef7177b4",
   "metadata": {},
   "outputs": [],
   "source": [
    "results = pd.DataFrame({'R2':br_cv_list, 'BR':br_select_list})#, 'RF CV R2':rf_cv_list, 'Rf':rf_select_list})\n",
    "results = results.sort_values(['R2'], ascending=False).reset_index(drop=True)\n",
    "results"
   ]
  },
  {
   "cell_type": "code",
   "execution_count": null,
   "id": "f988bc8f",
   "metadata": {},
   "outputs": [],
   "source": [
    "results.to_json('PyQSAR_BR.json', orient='table')"
   ]
  },
  {
   "cell_type": "markdown",
   "id": "3a8c1d82",
   "metadata": {},
   "source": [
    "# 8. Scikit-learn\n",
    "### Second Test"
   ]
  },
  {
   "cell_type": "code",
   "execution_count": null,
   "id": "da8fa0b3",
   "metadata": {},
   "outputs": [],
   "source": [
    "import pandas as pd\n",
    "import numpy as np\n",
    "from rdkit import Chem\n",
    "from rdkit.Chem import AllChem\n",
    "from rdkit.Chem import MACCSkeys\n",
    "import warnings\n",
    "warnings.filterwarnings(action='ignore')\n",
    "from sklearn.ensemble import RandomForestRegressor\n",
    "from sklearn.linear_model import BayesianRidge\n",
    "from sklearn.model_selection import cross_validate\n",
    "from sklearn.metrics import r2_score, mean_absolute_error, mean_squared_error\n",
    "from sklearn.model_selection import train_test_split\n",
    "from sklearn import preprocessing\n",
    "import matplotlib.pyplot as plt\n",
    "from tqdm.notebook import tqdm"
   ]
  },
  {
   "cell_type": "code",
   "execution_count": null,
   "id": "5c168c2e",
   "metadata": {},
   "outputs": [],
   "source": [
    "def prepro(df, select):\n",
    "    df = df.fillna(0)\n",
    "    X_data = df.iloc[:,2:-1]\n",
    "    y_data = df.iloc[:,-1:]\n",
    "    header = list(X_data.columns.values)\n",
    "    scaler = preprocessing.MinMaxScaler()\n",
    "    X_data = scaler.fit_transform(X_data)\n",
    "    X_data = pd.DataFrame(X_data, columns=header)\n",
    "    X_data = X_data[select]\n",
    "    return X_data, y_data"
   ]
  },
  {
   "cell_type": "code",
   "execution_count": null,
   "id": "e7636679",
   "metadata": {},
   "outputs": [],
   "source": [
    "def fit(x, y, ratio=0.2, seed=2021, cv=3):\n",
    "    \n",
    "    reg = BayesianRidge(alpha_1=0.0001,\n",
    "                       alpha_2=0.2,\n",
    "                       compute_score=True,\n",
    "                       copy_X=True,\n",
    "                       fit_intercept=True,\n",
    "                       lambda_1=0.3,\n",
    "                       lambda_2=1e-07,\n",
    "                       n_iter=300,\n",
    "                       normalize=True,\n",
    "                       tol=0.001,\n",
    "                       verbose=False)\n",
    "    \n",
    "    x_train, x_test, y_train, y_test = train_test_split(x, y, test_size=ratio, random_state=seed)\n",
    "    \n",
    "    reg.fit(x_train, y_train)\n",
    "    y_pred = reg.predict(x_test)\n",
    "    \n",
    "    r2 = r2_score(y_test, y_pred)\n",
    "    mae = mean_absolute_error(y_test, y_pred)\n",
    "    mse = mean_squared_error(y_test, y_pred)\n",
    "    \n",
    "    cv_score = cross_validate(reg, x, y, cv=cv, scoring='r2')\n",
    "\n",
    "    return reg, r2, mae, mse, y_test, y_pred, cv_score"
   ]
  },
  {
   "cell_type": "code",
   "execution_count": null,
   "id": "cdd84952",
   "metadata": {},
   "outputs": [],
   "source": [
    "def plot(r2, mae, mse, y_true, y_pred, cv_score):\n",
    "    print('%.1i-fold CV R2 : %.4f' % (int(len(cv_score['test_score'])), float(np.mean(cv_score['test_score']))))\n",
    "    \n",
    "    plt.figure(figsize=(4, 4))#, dpi=500)\n",
    "    plt.scatter(y_true, y_pred, alpha=0.4, color='blue')\n",
    "    plt.plot(y_true, y_true, alpha=0.4, color='black')\n",
    "    plt.xlabel(r\"Measured toxicity ($pLC_{50}$)\", fontsize=18)\n",
    "    plt.ylabel(r\"Predicted toxicity ($pLC_{50}$)\", fontsize=18)\n",
    "#     plt.text(-0.6, 3.6, r'$R^2 = 0.9229$', fontdict={'size': 16})\n",
    "    plt.tight_layout()\n",
    "    plt.show()\n",
    "    \n",
    "    print('R2 : %.4f' % (float(r2)))\n",
    "    print('MAE : %.4f' % (float(mae)))\n",
    "    print('MSE : %.4f' % (float(mse)))"
   ]
  },
  {
   "cell_type": "code",
   "execution_count": null,
   "id": "3e87b8fc",
   "metadata": {},
   "outputs": [],
   "source": [
    "df = pd.read_csv('Train_Mordred_Prepro.csv')\n",
    "select = df.columns[2:-1]\n",
    "select"
   ]
  },
  {
   "cell_type": "code",
   "execution_count": null,
   "id": "374e2a98",
   "metadata": {},
   "outputs": [],
   "source": [
    "selected = pd.read_json('PyQSAR_BR.json', orient='table')\n",
    "select = selected['BR'].iloc[0]\n",
    "\n",
    "selected['Count'] = 0\n",
    "for i in range(selected.shape[0]):\n",
    "    selected['Count'].iloc[i] = len(selected['BR'].iloc[i])\n",
    "\n",
    "selected = selected.sort_values(['Count']).reset_index(drop=True)\n",
    "max_v = selected[selected['R2'] == max(selected['R2'])]\n",
    "\n",
    "len(select)"
   ]
  },
  {
   "cell_type": "code",
   "execution_count": null,
   "id": "de9b7ea0",
   "metadata": {},
   "outputs": [],
   "source": [
    "plt.figure(figsize=(4, 4))#, dpi=500)\n",
    "\n",
    "plt.subplot(2, 1, 1) \n",
    "plt.plot(selected['Count'], selected['R2'], color='blue')\n",
    "plt.scatter(max_v['Count'], max_v['R2'], color='red')\n",
    "plt.ylabel(r\"$R^2$\", fontsize=18)\n",
    "plt.xlim([-1, 51])\n",
    "plt.ylim([0, 1])\n",
    "\n",
    "plt.subplot(2, 1, 2) \n",
    "plt.plot(selected['Count'], selected['R2'], color='blue')\n",
    "plt.plot([0, 50], [0, 0], color='black', alpha=0.4)\n",
    "plt.xlabel(\"Number of descriptors\", fontsize=18)\n",
    "plt.ylabel(r\"$R^2$\", fontsize=18)\n",
    "plt.xlim([-1, 51])\n",
    "plt.ylim([-3.5, 1.5])\n",
    "plt.tight_layout()\n",
    "plt.show()"
   ]
  },
  {
   "cell_type": "code",
   "execution_count": null,
   "id": "96a74999",
   "metadata": {},
   "outputs": [],
   "source": [
    "X_data, y_data = prepro(df, select)\n",
    "reg, r2, mae, mse, y_test, y_pred, cv_score = fit(X_data, y_data, ratio=0.2, seed=2021, cv=3)\n",
    "plot(r2, mae, mse, y_test, y_pred, cv_score)"
   ]
  },
  {
   "cell_type": "code",
   "execution_count": null,
   "id": "39bdedfa",
   "metadata": {},
   "outputs": [],
   "source": [
    "r2_list = []\n",
    "mae_list = []\n",
    "mse_list = []\n",
    "for i in range(0, 1000, 100):\n",
    "    print(i)\n",
    "    X_data, y_data = prepro(df, select)\n",
    "    reg, r2, mae, mse, y_test, y_pred, cv_score = fit(X_data, y_data, ratio=0.2, seed=i, cv=3)\n",
    "    plot(r2, mae, mse, y_test, y_pred, cv_score)\n",
    "    r2_list.append(r2)\n",
    "    mae_list.append(mae)\n",
    "    mse_list.append(mse)\n",
    "print()\n",
    "print('Total')\n",
    "print('R2 : %.4f' % (float(np.mean(r2_list))))\n",
    "print('StD : %.4f' % (float(np.std(r2_list))))\n",
    "print('MAE : %.4f' % (float(np.mean(mae_list))))\n",
    "print('MSE : %.4f' % (float(np.mean(mse_list))))"
   ]
  },
  {
   "cell_type": "code",
   "execution_count": null,
   "id": "0baa6a83",
   "metadata": {},
   "outputs": [],
   "source": []
  }
 ],
 "metadata": {
  "kernelspec": {
   "display_name": "Python 3 (ipykernel)",
   "language": "python",
   "name": "python3"
  },
  "language_info": {
   "codemirror_mode": {
    "name": "ipython",
    "version": 3
   },
   "file_extension": ".py",
   "mimetype": "text/x-python",
   "name": "python",
   "nbconvert_exporter": "python",
   "pygments_lexer": "ipython3",
   "version": "3.7.12"
  }
 },
 "nbformat": 4,
 "nbformat_minor": 5
}
