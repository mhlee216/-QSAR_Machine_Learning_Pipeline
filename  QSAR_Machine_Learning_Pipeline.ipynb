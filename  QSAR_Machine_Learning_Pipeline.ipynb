{
 "cells": [
  {
   "cell_type": "markdown",
   "id": "d195c322",
   "metadata": {},
   "source": [
    "## Efficient Fish Acute Toxicity Prediction Using QSAR Machine Learning Pipeline"
   ]
  },
  {
   "cell_type": "markdown",
   "id": "8cd3f333",
   "metadata": {},
   "source": [
    " "
   ]
  },
  {
   "cell_type": "markdown",
   "id": "2b064fae",
   "metadata": {},
   "source": [
    "# 1. SMILES\n",
    "### Dataset\n",
    "<br>https://qsardb.org/repository/handle/10967/195</br>\n",
    "<br>Property pLC50: 96-h acute fish toxicity as log(1/LC50) [-log(mmol/L)]</br>\n",
    "<br>Training set</br>"
   ]
  },
  {
   "cell_type": "markdown",
   "id": "1edb8155",
   "metadata": {},
   "source": [
    "# 2. RDKit\n",
    "### Canonicalization"
   ]
  },
  {
   "cell_type": "code",
   "execution_count": null,
   "id": "964ec299",
   "metadata": {},
   "outputs": [],
   "source": [
    "import pandas as pd\n",
    "import numpy as np\n",
    "from rdkit import Chem\n",
    "from mordred import Calculator, descriptors\n",
    "import warnings\n",
    "warnings.filterwarnings(action='ignore')\n",
    "import matplotlib.pyplot as plt\n",
    "import seaborn as sns"
   ]
  },
  {
   "cell_type": "code",
   "execution_count": null,
   "id": "3b62f355",
   "metadata": {},
   "outputs": [],
   "source": [
    "def smiles_converter(file):\n",
    "    sdfs = Chem.SDMolSupplier(file)\n",
    "    smi_list = []\n",
    "    for mol in sdfs:\n",
    "        if mol is not None:\n",
    "            smi = Chem.MolToSmiles(mol)\n",
    "            smi_list.append(smi)\n",
    "    return smi_list"
   ]
  },
  {
   "cell_type": "code",
   "execution_count": null,
   "id": "a1811ff9",
   "metadata": {},
   "outputs": [],
   "source": [
    "train_smi = smiles_converter('pLC50_Eq3_Train_2D_Compounds.sdf')\n",
    "len(train_smi)"
   ]
  },
  {
   "cell_type": "code",
   "execution_count": null,
   "id": "653bb242",
   "metadata": {},
   "outputs": [],
   "source": [
    "train_smi[:3]"
   ]
  },
  {
   "cell_type": "code",
   "execution_count": null,
   "id": "b24e3c17",
   "metadata": {},
   "outputs": [],
   "source": [
    "def find_ids(file):\n",
    "    f = open(file, 'r')\n",
    "    lines = f.readlines()\n",
    "    f.close()\n",
    "\n",
    "    ids = []\n",
    "    for line in lines:\n",
    "        if '_' in line:\n",
    "            if '> <' not in line:\n",
    "                ids.append(line[:-1].split('_')[-1])\n",
    "            \n",
    "    return ids"
   ]
  },
  {
   "cell_type": "code",
   "execution_count": null,
   "id": "d826f2e2",
   "metadata": {},
   "outputs": [],
   "source": [
    "train_id = find_ids('pLC50_Eq3_Train_2D_Compounds.sdf')\n",
    "len(train_id)"
   ]
  },
  {
   "cell_type": "code",
   "execution_count": null,
   "id": "f6354890",
   "metadata": {},
   "outputs": [],
   "source": [
    "train_id[:3]"
   ]
  },
  {
   "cell_type": "code",
   "execution_count": null,
   "id": "a54c64a2",
   "metadata": {},
   "outputs": [],
   "source": [
    "train_df = pd.DataFrame({'CID':train_id, 'SMILES':train_smi})\n",
    "train_df"
   ]
  },
  {
   "cell_type": "markdown",
   "id": "02f7a544",
   "metadata": {},
   "source": [
    "# 3. Mordred\n",
    "### Descriptors"
   ]
  },
  {
   "cell_type": "code",
   "execution_count": null,
   "id": "e21d441b",
   "metadata": {},
   "outputs": [],
   "source": [
    "def mordred(df):\n",
    "    calc = Calculator(descriptors, ignore_3D=True)\n",
    "    mols = [Chem.MolFromSmiles(s) for s in df['SMILES'].tolist()]\n",
    "    mord = calc.pandas(mols)\n",
    "    df = pd.concat([df, mord], axis=1)\n",
    "    return df"
   ]
  },
  {
   "cell_type": "code",
   "execution_count": null,
   "id": "b6928438",
   "metadata": {},
   "outputs": [],
   "source": [
    "train_df = mordred(train_df)\n",
    "train_df"
   ]
  },
  {
   "cell_type": "code",
   "execution_count": null,
   "id": "c29a5ca9",
   "metadata": {},
   "outputs": [],
   "source": [
    "def invalid(df):\n",
    "    for c in df.columns:\n",
    "        if c != 'SMILES':\n",
    "            for i in range(df.shape[0]):\n",
    "                try: \n",
    "                    _ = float(df[c].iloc[i])+1\n",
    "                    df[c].iloc[i] = float(df[c].iloc[i])\n",
    "                except:\n",
    "                    df[c].iloc[i] = np.nan\n",
    "                    continue\n",
    "    return df"
   ]
  },
  {
   "cell_type": "code",
   "execution_count": null,
   "id": "a4224d78",
   "metadata": {},
   "outputs": [],
   "source": [
    "train_df = invalid(train_df)\n",
    "train_df"
   ]
  },
  {
   "cell_type": "code",
   "execution_count": null,
   "id": "7b2c93e1",
   "metadata": {},
   "outputs": [],
   "source": [
    "def make_label(file, df):\n",
    "    f = open(file, 'r')\n",
    "    lines = f.readlines()\n",
    "    f.close()\n",
    "\n",
    "    values = []\n",
    "    for line in lines[1:]:\n",
    "        values.append(line[:-1].split(' ')[-1])\n",
    "\n",
    "    df['pLC50'] = values\n",
    "    return df"
   ]
  },
  {
   "cell_type": "code",
   "execution_count": null,
   "id": "0bd84207",
   "metadata": {},
   "outputs": [],
   "source": [
    "train_df = make_label('pLC50_Eq3_Train.cid', train_df)\n",
    "train_df"
   ]
  },
  {
   "cell_type": "code",
   "execution_count": null,
   "id": "6e7aa4ba",
   "metadata": {},
   "outputs": [],
   "source": [
    "train_df.to_csv('Train_Mordred.csv', index=False)"
   ]
  },
  {
   "cell_type": "markdown",
   "id": "caeeee28",
   "metadata": {},
   "source": [
    "# 4. PyQSAR\n",
    "### Preprocessing"
   ]
  },
  {
   "cell_type": "code",
   "execution_count": null,
   "id": "33d84e11",
   "metadata": {},
   "outputs": [],
   "source": [
    "# Python 2.7"
   ]
  },
  {
   "cell_type": "code",
   "execution_count": null,
   "id": "b4ce30b4",
   "metadata": {},
   "outputs": [],
   "source": [
    "from pyqsar import data_tools as dt\n",
    "from sklearn import preprocessing\n",
    "import pandas as pd\n",
    "import matplotlib.pyplot as plt"
   ]
  },
  {
   "cell_type": "code",
   "execution_count": null,
   "id": "55f70591",
   "metadata": {
    "scrolled": true
   },
   "outputs": [],
   "source": [
    "df = pd.read_csv('Train_Mordred.csv')\n",
    "df = df.fillna(0)\n",
    "X_data = df.iloc[:,2:-1]\n",
    "y_data = df.iloc[:,-1:]\n",
    "\n",
    "X_data = dt.rm_empty_feature(X_data)\n",
    "X_data = dt.rmNaN(X_data)\n",
    "\n",
    "Infinity_list = []\n",
    "for des in X_data:\n",
    "    my_list = X_data[des].values\n",
    "    for val in my_list:\n",
    "        if val == \"Infinity\" or val == \"-Infinity\":\n",
    "            Infinity_list.append(des)\n",
    "            del X_data[des]\n",
    "            break\n",
    "\n",
    "header = list(X_data.columns.values)\n",
    "scaler = preprocessing.MinMaxScaler()\n",
    "X_data = scaler.fit_transform(X_data)\n",
    "X_data = pd.DataFrame(X_data, columns=header)\n",
    "\n",
    "df = pd.concat([df[['CID', 'SMILES']], X_data, y_data], axis=1)\n",
    "df.to_csv('Train_Mordred_Prepro.csv', index=False)\n",
    "df"
   ]
  },
  {
   "cell_type": "code",
   "execution_count": null,
   "id": "c835d827",
   "metadata": {},
   "outputs": [],
   "source": [
    "df = pd.read_csv('Train_Mordred_Prepro.csv')"
   ]
  },
  {
   "cell_type": "code",
   "execution_count": null,
   "id": "bba39654",
   "metadata": {},
   "outputs": [],
   "source": [
    "kwargs = dict(hist_kws={'alpha':.3}, kde_kws={'linewidth':2})\n",
    "\n",
    "plt.figure(figsize=(8,5))#, dpi= 500)\n",
    "sns.distplot(df['pLC50'], color=\"blue\", bins=16, **kwargs)\n",
    "plt.xlabel(r'$pLC_{50}$', fontsize=25)\n",
    "plt.xticks(fontsize=18)\n",
    "plt.ylabel('Density', fontsize=25)\n",
    "plt.yticks(fontsize=18)\n",
    "plt.show()"
   ]
  },
  {
   "cell_type": "markdown",
   "id": "a7b1bb1c",
   "metadata": {},
   "source": [
    "# 5. PyCaret\n",
    "### Comparison & Tuning"
   ]
  },
  {
   "cell_type": "code",
   "execution_count": null,
   "id": "a61af123",
   "metadata": {},
   "outputs": [],
   "source": [
    "import pandas as pd\n",
    "import warnings\n",
    "warnings.filterwarnings(action='ignore')\n",
    "from pycaret.regression import *"
   ]
  },
  {
   "cell_type": "code",
   "execution_count": null,
   "id": "a5605bf9",
   "metadata": {},
   "outputs": [],
   "source": [
    "df = pd.read_csv('Train_Mordred_Prepro.csv')\n",
    "df = df.fillna(0)\n",
    "df"
   ]
  },
  {
   "cell_type": "code",
   "execution_count": null,
   "id": "32ba91b0",
   "metadata": {},
   "outputs": [],
   "source": [
    "exp = setup(df, target='pLC50', ignore_features = ['CID', 'SMILES'], silent=True)"
   ]
  },
  {
   "cell_type": "code",
   "execution_count": null,
   "id": "6fad69a6",
   "metadata": {},
   "outputs": [],
   "source": [
    "top3 = compare_models(n_select = 3, sort='r2')"
   ]
  },
  {
   "cell_type": "code",
   "execution_count": null,
   "id": "c38962af",
   "metadata": {},
   "outputs": [],
   "source": [
    "best = top3[0]"
   ]
  },
  {
   "cell_type": "code",
   "execution_count": null,
   "id": "805c98fd",
   "metadata": {},
   "outputs": [],
   "source": [
    "best.get_params()"
   ]
  },
  {
   "cell_type": "code",
   "execution_count": null,
   "id": "4b245ac9",
   "metadata": {},
   "outputs": [],
   "source": [
    "tuned_best = tune_model(best, n_iter=50, optimize='R2')"
   ]
  },
  {
   "cell_type": "code",
   "execution_count": null,
   "id": "ab9d5666",
   "metadata": {},
   "outputs": [],
   "source": [
    "tuned_best.get_params()"
   ]
  },
  {
   "cell_type": "code",
   "execution_count": null,
   "id": "8862ea0b",
   "metadata": {},
   "outputs": [],
   "source": [
    "tuned_best = tune_model(best, n_iter=100, optimize='R2')"
   ]
  },
  {
   "cell_type": "code",
   "execution_count": null,
   "id": "66b84ed7",
   "metadata": {},
   "outputs": [],
   "source": [
    "tuned_best.get_params()"
   ]
  },
  {
   "cell_type": "markdown",
   "id": "af342192",
   "metadata": {},
   "source": [
    "# 6. Scikit-learn\n",
    "### First Test"
   ]
  },
  {
   "cell_type": "code",
   "execution_count": null,
   "id": "a41cadb2",
   "metadata": {},
   "outputs": [],
   "source": [
    "import pandas as pd\n",
    "import numpy as np\n",
    "from rdkit import Chem\n",
    "from rdkit.Chem import AllChem\n",
    "from rdkit.Chem import MACCSkeys\n",
    "import warnings\n",
    "warnings.filterwarnings(action='ignore')\n",
    "from sklearn.ensemble import RandomForestRegressor\n",
    "from sklearn.linear_model import BayesianRidge\n",
    "from sklearn.model_selection import cross_validate\n",
    "from sklearn.metrics import r2_score, mean_absolute_error, mean_squared_error\n",
    "from sklearn.model_selection import train_test_split\n",
    "from sklearn import preprocessing\n",
    "import matplotlib.pyplot as plt\n",
    "from tqdm.notebook import tqdm"
   ]
  },
  {
   "cell_type": "code",
   "execution_count": null,
   "id": "f1f31a85",
   "metadata": {},
   "outputs": [],
   "source": [
    "def prepro(df, select):\n",
    "    df = df.fillna(0)\n",
    "    X_data = df.iloc[:,2:-1]\n",
    "    y_data = df.iloc[:,-1:]\n",
    "    header = list(X_data.columns.values)\n",
    "    scaler = preprocessing.MinMaxScaler()\n",
    "    X_data = scaler.fit_transform(X_data)\n",
    "    X_data = pd.DataFrame(X_data, columns=header)\n",
    "    X_data = X_data[select]\n",
    "    return X_data, y_data"
   ]
  },
  {
   "cell_type": "code",
   "execution_count": null,
   "id": "3d445397",
   "metadata": {},
   "outputs": [],
   "source": [
    "def fit(x, y, ratio=0.2, seed=2021, cv=3):\n",
    "    \n",
    "    reg = BayesianRidge(alpha_1=0.0001,\n",
    "                       alpha_2=0.2,\n",
    "                       compute_score=True,\n",
    "                       copy_X=True,\n",
    "                       fit_intercept=True,\n",
    "                       lambda_1=0.3,\n",
    "                       lambda_2=1e-07,\n",
    "                       n_iter=300,\n",
    "                       normalize=True,\n",
    "                       tol=0.001,\n",
    "                       verbose=False)\n",
    "    \n",
    "    x_train, x_test, y_train, y_test = train_test_split(x, y, test_size=ratio, random_state=seed)\n",
    "    \n",
    "    reg.fit(x_train, y_train)\n",
    "    y_pred = reg.predict(x_test)\n",
    "    \n",
    "    r2 = r2_score(y_test, y_pred)\n",
    "    mae = mean_absolute_error(y_test, y_pred)\n",
    "    mse = mean_squared_error(y_test, y_pred)\n",
    "    \n",
    "    cv_score = cross_validate(reg, x, y, cv=cv, scoring='r2')\n",
    "\n",
    "    return reg, r2, mae, mse, y_test, y_pred, cv_score"
   ]
  },
  {
   "cell_type": "code",
   "execution_count": null,
   "id": "7a5e1915",
   "metadata": {},
   "outputs": [],
   "source": [
    "def plot(r2, mae, mse, y_true, y_pred, cv_score):\n",
    "    print('%.1i-fold CV R2 : %.4f' % (int(len(cv_score['test_score'])), float(np.mean(cv_score['test_score']))))\n",
    "    \n",
    "    plt.figure(figsize=(4, 4))#, dpi=500)\n",
    "    plt.scatter(y_true, y_pred, alpha=0.4, color='blue')\n",
    "    plt.plot(y_true, y_true, alpha=0.4, color='black')\n",
    "    plt.xlabel(r\"Measured toxicity ($pLC_{50}$)\", fontsize=18)\n",
    "    plt.ylabel(r\"Predicted toxicity ($pLC_{50}$)\", fontsize=18)\n",
    "#     plt.text(-0.6, 3.6, r'$R^2 = 0.9229$', fontdict={'size': 16})\n",
    "    plt.tight_layout()\n",
    "    plt.show()\n",
    "    \n",
    "    print('R2 : %.4f' % (float(r2)))\n",
    "    print('MAE : %.4f' % (float(mae)))\n",
    "    print('MSE : %.4f' % (float(mse)))"
   ]
  },
  {
   "cell_type": "code",
   "execution_count": null,
   "id": "bcb725f7",
   "metadata": {},
   "outputs": [],
   "source": [
    "df = pd.read_csv('Train_Mordred_Prepro.csv')\n",
    "select = df.columns[2:-1]\n",
    "select"
   ]
  },
  {
   "cell_type": "code",
   "execution_count": null,
   "id": "954f5c43",
   "metadata": {},
   "outputs": [],
   "source": [
    "X_data, y_data = prepro(df, select)\n",
    "reg, r2, mae, mse, y_test, y_pred, cv_score = fit(X_data, y_data, ratio=0.2, seed=2021, cv=3)\n",
    "plot(r2, mae, mse, y_test, y_pred, cv_score)"
   ]
  },
  {
   "cell_type": "code",
   "execution_count": null,
   "id": "5a7158bf",
   "metadata": {},
   "outputs": [],
   "source": [
    "r2_list = []\n",
    "mae_list = []\n",
    "mse_list = []\n",
    "for i in range(0, 1000, 100):\n",
    "    print(i)\n",
    "    X_data, y_data = prepro(df, select)\n",
    "    reg, r2, mae, mse, y_test, y_pred, cv_score = fit(X_data, y_data, ratio=0.2, seed=i, cv=3)\n",
    "    plot(r2, mae, mse, y_test, y_pred, cv_score)\n",
    "    r2_list.append(r2)\n",
    "    mae_list.append(mae)\n",
    "    mse_list.append(mse)\n",
    "print()\n",
    "print('Total')\n",
    "print('R2 : %.4f' % (float(np.mean(r2_list))))\n",
    "print('StD : %.4f' % (float(np.std(r2_list))))\n",
    "print('MAE : %.4f' % (float(np.mean(mae_list))))\n",
    "print('MSE : %.4f' % (float(np.mean(mse_list))))"
   ]
  },
  {
   "cell_type": "markdown",
   "id": "c7b23f21",
   "metadata": {},
   "source": [
    "# 8. PyQSAR\n",
    "### Feature Selection"
   ]
  },
  {
   "cell_type": "code",
   "execution_count": null,
   "id": "2c11c328",
   "metadata": {},
   "outputs": [],
   "source": [
    "# Python 2.7"
   ]
  },
  {
   "cell_type": "code",
   "execution_count": null,
   "id": "65f56d0e",
   "metadata": {},
   "outputs": [],
   "source": [
    "import pandas as pd\n",
    "import numpy as np\n",
    "import warnings\n",
    "warnings.filterwarnings(action='ignore')\n",
    "from sklearn.ensemble import RandomForestRegressor\n",
    "from sklearn.linear_model import BayesianRidge\n",
    "from sklearn.model_selection import cross_validate\n",
    "from sklearn.metrics import r2_score, mean_absolute_error, mean_squared_error\n",
    "from sklearn.model_selection import train_test_split\n",
    "from sklearn import preprocessing\n",
    "import matplotlib.pyplot as plt\n",
    "from pyqsar import clustering as cl\n",
    "from pyqsar import feature_selection_single as fss"
   ]
  },
  {
   "cell_type": "code",
   "execution_count": null,
   "id": "b9e17a3e",
   "metadata": {},
   "outputs": [],
   "source": [
    "def fit(x, y, external=False, ratio=0.2, seed=2021, cv=3):\n",
    "    \n",
    "    reg = BayesianRidge(alpha_1=0.0001,\n",
    "                       alpha_2=0.2,\n",
    "                       compute_score=True,\n",
    "                       copy_X=True,\n",
    "                       fit_intercept=True,\n",
    "                       lambda_1=0.3,\n",
    "                       lambda_2=1e-07,\n",
    "                       n_iter=300,\n",
    "                       normalize=True,\n",
    "                       tol=0.001,\n",
    "                       verbose=False)\n",
    "\n",
    "    \n",
    "    print(x.shape[1])\n",
    "    x_train, x_test, y_train, y_test = train_test_split(x, y, test_size=ratio, random_state=seed)\n",
    "    \n",
    "    reg.fit(x_train, y_train)\n",
    "    y_pred = reg.predict(x_test)\n",
    "    \n",
    "    r2 = r2_score(y_test, y_pred)\n",
    "    mae = mean_absolute_error(y_test, y_pred)\n",
    "    mse = mean_squared_error(y_test, y_pred)\n",
    "    \n",
    "    cv_score = cross_validate(reg, x, y, cv=cv, scoring='r2')\n",
    "\n",
    "    return reg, r2, mae, mse, y_test, y_pred, cv_score"
   ]
  },
  {
   "cell_type": "code",
   "execution_count": null,
   "id": "fec21e69",
   "metadata": {},
   "outputs": [],
   "source": [
    "df = pd.read_csv('Train_Mordred_Prepro.csv')\n",
    "df = df.fillna(0)\n",
    "X_data = df.iloc[:,2:-1]\n",
    "y_data = df.iloc[:,-1:]\n",
    "header = list(X_data.columns.values)\n",
    "scaler = preprocessing.MinMaxScaler()\n",
    "X_data = scaler.fit_transform(X_data)\n",
    "X_data = pd.DataFrame(X_data, columns=header)\n",
    "X_data"
   ]
  },
  {
   "cell_type": "code",
   "execution_count": null,
   "id": "3239b6fa",
   "metadata": {},
   "outputs": [],
   "source": [
    "cl.cophenetic(X_data)\n",
    "clust = cl.FeatureCluster(X_data, 'average', 2)\n",
    "clust_info = clust.set_cluster()"
   ]
  },
  {
   "cell_type": "code",
   "execution_count": null,
   "id": "f3ece002",
   "metadata": {},
   "outputs": [],
   "source": [
    "br_select_list = []\n",
    "br_cv_list = []\n",
    "for i in range(1, 51):\n",
    "    print(i)\n",
    "    select = fss.selection(X_data, y_data,\n",
    "                           clust_info,\n",
    "                           model='regression',\n",
    "                           learning=1000,\n",
    "                           bank=200,\n",
    "                           component=i)\n",
    "    reg, r2, mae, mse, y_test, y_pred, cv_score = fit(X_data[select], y_data, external=False, ratio=0.2, seed=2021, cv=3)\n",
    "    br_cv_list.append(np.mean(cv_score['test_score']))\n",
    "    br_select_list.append(select)\n",
    "    print(select)\n",
    "    print(np.mean(cv_score['test_score']))\n",
    "    print"
   ]
  },
  {
   "cell_type": "code",
   "execution_count": null,
   "id": "53e3fa28",
   "metadata": {},
   "outputs": [],
   "source": [
    "results = pd.DataFrame({'R2':br_cv_list, 'BR':br_select_list})#, 'RF CV R2':rf_cv_list, 'Rf':rf_select_list})\n",
    "results = results.sort_values(['R2'], ascending=False).reset_index(drop=True)\n",
    "results"
   ]
  },
  {
   "cell_type": "code",
   "execution_count": null,
   "id": "dba47d7c",
   "metadata": {},
   "outputs": [],
   "source": [
    "results.to_json('pyQSAR_BR.json', orient='table')"
   ]
  },
  {
   "cell_type": "markdown",
   "id": "bb8f61b9",
   "metadata": {},
   "source": [
    "# 8. Scikit-learn\n",
    "### Second Test"
   ]
  },
  {
   "cell_type": "code",
   "execution_count": null,
   "id": "41852c94",
   "metadata": {},
   "outputs": [],
   "source": [
    "import pandas as pd\n",
    "import numpy as np\n",
    "from rdkit import Chem\n",
    "from rdkit.Chem import AllChem\n",
    "from rdkit.Chem import MACCSkeys\n",
    "import warnings\n",
    "warnings.filterwarnings(action='ignore')\n",
    "from sklearn.ensemble import RandomForestRegressor\n",
    "from sklearn.linear_model import BayesianRidge\n",
    "from sklearn.model_selection import cross_validate\n",
    "from sklearn.metrics import r2_score, mean_absolute_error, mean_squared_error\n",
    "from sklearn.model_selection import train_test_split\n",
    "from sklearn import preprocessing\n",
    "import matplotlib.pyplot as plt\n",
    "from tqdm.notebook import tqdm"
   ]
  },
  {
   "cell_type": "code",
   "execution_count": null,
   "id": "f3df2843",
   "metadata": {},
   "outputs": [],
   "source": [
    "def prepro(df, select):\n",
    "    df = df.fillna(0)\n",
    "    X_data = df.iloc[:,2:-1]\n",
    "    y_data = df.iloc[:,-1:]\n",
    "    header = list(X_data.columns.values)\n",
    "    scaler = preprocessing.MinMaxScaler()\n",
    "    X_data = scaler.fit_transform(X_data)\n",
    "    X_data = pd.DataFrame(X_data, columns=header)\n",
    "    X_data = X_data[select]\n",
    "    return X_data, y_data"
   ]
  },
  {
   "cell_type": "code",
   "execution_count": null,
   "id": "7b1cfe81",
   "metadata": {},
   "outputs": [],
   "source": [
    "def fit(x, y, ratio=0.2, seed=2021, cv=3):\n",
    "    \n",
    "    reg = BayesianRidge(alpha_1=0.0001,\n",
    "                       alpha_2=0.2,\n",
    "                       compute_score=True,\n",
    "                       copy_X=True,\n",
    "                       fit_intercept=True,\n",
    "                       lambda_1=0.3,\n",
    "                       lambda_2=1e-07,\n",
    "                       n_iter=300,\n",
    "                       normalize=True,\n",
    "                       tol=0.001,\n",
    "                       verbose=False)\n",
    "    \n",
    "    x_train, x_test, y_train, y_test = train_test_split(x, y, test_size=ratio, random_state=seed)\n",
    "    \n",
    "    reg.fit(x_train, y_train)\n",
    "    y_pred = reg.predict(x_test)\n",
    "    \n",
    "    r2 = r2_score(y_test, y_pred)\n",
    "    mae = mean_absolute_error(y_test, y_pred)\n",
    "    mse = mean_squared_error(y_test, y_pred)\n",
    "    \n",
    "    cv_score = cross_validate(reg, x, y, cv=cv, scoring='r2')\n",
    "\n",
    "    return reg, r2, mae, mse, y_test, y_pred, cv_score"
   ]
  },
  {
   "cell_type": "code",
   "execution_count": null,
   "id": "3252826f",
   "metadata": {},
   "outputs": [],
   "source": [
    "def plot(r2, mae, mse, y_true, y_pred, cv_score):\n",
    "    print('%.1i-fold CV R2 : %.4f' % (int(len(cv_score['test_score'])), float(np.mean(cv_score['test_score']))))\n",
    "    \n",
    "    plt.figure(figsize=(4, 4))#, dpi=500)\n",
    "    plt.scatter(y_true, y_pred, alpha=0.4, color='blue')\n",
    "    plt.plot(y_true, y_true, alpha=0.4, color='black')\n",
    "    plt.xlabel(r\"Measured toxicity ($pLC_{50}$)\", fontsize=18)\n",
    "    plt.ylabel(r\"Predicted toxicity ($pLC_{50}$)\", fontsize=18)\n",
    "#     plt.text(-0.6, 3.6, r'$R^2 = 0.9229$', fontdict={'size': 16})\n",
    "    plt.tight_layout()\n",
    "    plt.show()\n",
    "    \n",
    "    print('R2 : %.4f' % (float(r2)))\n",
    "    print('MAE : %.4f' % (float(mae)))\n",
    "    print('MSE : %.4f' % (float(mse)))"
   ]
  },
  {
   "cell_type": "code",
   "execution_count": null,
   "id": "56320691",
   "metadata": {},
   "outputs": [],
   "source": [
    "df = pd.read_csv('Train_Mordred_Prepro.csv')\n",
    "select = df.columns[2:-1]\n",
    "select"
   ]
  },
  {
   "cell_type": "code",
   "execution_count": null,
   "id": "bc465c99",
   "metadata": {},
   "outputs": [],
   "source": [
    "selected = pd.read_json('pyQSAR_BR.json', orient='table')\n",
    "select = selected['BR'].iloc[0]\n",
    "\n",
    "selected['Count'] = 0\n",
    "for i in range(selected.shape[0]):\n",
    "    selected['Count'].iloc[i] = len(selected['BR'].iloc[i])\n",
    "\n",
    "selected = selected.sort_values(['Count']).reset_index(drop=True)\n",
    "max_v = selected[selected['R2'] == max(selected['R2'])]\n",
    "\n",
    "len(select)"
   ]
  },
  {
   "cell_type": "code",
   "execution_count": null,
   "id": "3100dd7c",
   "metadata": {},
   "outputs": [],
   "source": [
    "plt.figure(figsize=(4, 4))#, dpi=500)\n",
    "\n",
    "plt.subplot(2, 1, 1) \n",
    "plt.plot(selected['Count'], selected['R2'], color='blue')\n",
    "plt.scatter(max_v['Count'], max_v['R2'], color='red')\n",
    "plt.ylabel(r\"$R^2$\", fontsize=18)\n",
    "plt.xlim([-1, 51])\n",
    "plt.ylim([0, 1])\n",
    "\n",
    "plt.subplot(2, 1, 2) \n",
    "plt.plot(selected['Count'], selected['R2'], color='blue')\n",
    "plt.plot([0, 50], [0, 0], color='black', alpha=0.4)\n",
    "plt.xlabel(\"Number of descriptors\", fontsize=18)\n",
    "plt.ylabel(r\"$R^2$\", fontsize=18)\n",
    "plt.xlim([-1, 51])\n",
    "plt.ylim([-3.5, 1.5])\n",
    "plt.tight_layout()\n",
    "plt.show()"
   ]
  },
  {
   "cell_type": "code",
   "execution_count": null,
   "id": "246c11f5",
   "metadata": {},
   "outputs": [],
   "source": [
    "X_data, y_data = prepro(df, select)\n",
    "reg, r2, mae, mse, y_test, y_pred, cv_score = fit(X_data, y_data, ratio=0.2, seed=2021, cv=3)\n",
    "plot(r2, mae, mse, y_test, y_pred, cv_score)"
   ]
  },
  {
   "cell_type": "code",
   "execution_count": null,
   "id": "2e0490d9",
   "metadata": {},
   "outputs": [],
   "source": [
    "r2_list = []\n",
    "mae_list = []\n",
    "mse_list = []\n",
    "for i in range(0, 1000, 100):\n",
    "    print(i)\n",
    "    X_data, y_data = prepro(df, select)\n",
    "    reg, r2, mae, mse, y_test, y_pred, cv_score = fit(X_data, y_data, ratio=0.2, seed=i, cv=3)\n",
    "    plot(r2, mae, mse, y_test, y_pred, cv_score)\n",
    "    r2_list.append(r2)\n",
    "    mae_list.append(mae)\n",
    "    mse_list.append(mse)\n",
    "print()\n",
    "print('Total')\n",
    "print('R2 : %.4f' % (float(np.mean(r2_list))))\n",
    "print('StD : %.4f' % (float(np.std(r2_list))))\n",
    "print('MAE : %.4f' % (float(np.mean(mae_list))))\n",
    "print('MSE : %.4f' % (float(np.mean(mse_list))))"
   ]
  },
  {
   "cell_type": "code",
   "execution_count": null,
   "id": "24051e7d",
   "metadata": {},
   "outputs": [],
   "source": []
  }
 ],
 "metadata": {
  "kernelspec": {
   "display_name": "Python 3 (ipykernel)",
   "language": "python",
   "name": "python3"
  },
  "language_info": {
   "codemirror_mode": {
    "name": "ipython",
    "version": 3
   },
   "file_extension": ".py",
   "mimetype": "text/x-python",
   "name": "python",
   "nbconvert_exporter": "python",
   "pygments_lexer": "ipython3",
   "version": "3.7.12"
  }
 },
 "nbformat": 4,
 "nbformat_minor": 5
}
